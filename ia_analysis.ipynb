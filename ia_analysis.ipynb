{
 "cells": [
  {
   "cell_type": "markdown",
   "metadata": {},
   "source": [
    "This is an extremely simple analysis of the length of videos uploaded to the Internet Archive. The focus of the exercise was in learning how to use the Internet Archive's JSON API to create the dataset that I wanted. \n",
    "\n",
    "At present, this is based on videos uploaded from June 1, 2024 through June 20, 2024 becaue that is all I have scraped so far. "
   ]
  },
  {
   "cell_type": "code",
   "execution_count": 24,
   "metadata": {},
   "outputs": [],
   "source": [
    "import sqlite3\n",
    "import pandas as pd\n",
    "import numpy as np\n",
    "import matplotlib.pyplot as plt\n",
    "\n",
    "SMALL_SIZE = 8\n",
    "MEDIUM_SIZE = 10\n",
    "BIGGER_SIZE = 12\n",
    "\n",
    "plt.rc('font', size=SMALL_SIZE)          # controls default text sizes\n",
    "plt.rc('axes', titlesize=SMALL_SIZE)     # fontsize of the axes title\n",
    "plt.rc('axes', labelsize=MEDIUM_SIZE)    # fontsize of the x and y labels\n",
    "plt.rc('xtick', labelsize=SMALL_SIZE)    # fontsize of the tick labels\n",
    "plt.rc('ytick', labelsize=SMALL_SIZE)    # fontsize of the tick labels\n",
    "plt.rc('legend', fontsize=SMALL_SIZE)    # legend fontsize\n",
    "plt.rc('figure', titlesize=BIGGER_SIZE)  # fontsize of the figure title\n",
    "\n",
    "conn = sqlite3.connect('iadb.sqlite')\n",
    "cur = conn.cursor()"
   ]
  },
  {
   "cell_type": "code",
   "execution_count": 25,
   "metadata": {},
   "outputs": [
    {
     "name": "stdout",
     "output_type": "stream",
     "text": [
      "[('1. <10 Minutes', 3235), ('2. 10-30 Minutes', 1546), ('3. 30-60 Minutes', 2891), ('4. 60-120 Minutes', 1495), ('5. >120 Minutes', 833)]\n"
     ]
    }
   ],
   "source": [
    "cur.execute('''\n",
    "select \n",
    "case \n",
    "\twhen file_length/60 <= 10 then '1. <10 Minutes'\n",
    "\twhen file_length/60 <= 30 then '2. 10-30 Minutes'\n",
    "\twhen file_length/60 <= 60 then '3. 30-60 Minutes'\n",
    "\twhen file_length/60 <= 120 then '4. 60-120 Minutes'\n",
    "\telse '5. >120 Minutes'\n",
    "end as length_bin\n",
    ", count(*) as n_files\n",
    "from Videos\n",
    "group by length_bin\n",
    "order by length_bin\n",
    "            ''')\n",
    "\n",
    "length_hist = cur.fetchall()\n",
    "\n",
    "print(length_hist)"
   ]
  },
  {
   "cell_type": "code",
   "execution_count": 26,
   "metadata": {},
   "outputs": [],
   "source": [
    "df = pd.DataFrame(length_hist)"
   ]
  },
  {
   "cell_type": "code",
   "execution_count": 27,
   "metadata": {},
   "outputs": [
    {
     "data": {
      "text/plain": [
       "(array([3235.,    0., 1546.,    0.,    0., 2891.,    0., 1495.,    0.,\n",
       "         833.]),\n",
       " array([0. , 0.4, 0.8, 1.2, 1.6, 2. , 2.4, 2.8, 3.2, 3.6, 4. ]),\n",
       " <BarContainer object of 10 artists>)"
      ]
     },
     "execution_count": 27,
     "metadata": {},
     "output_type": "execute_result"
    },
    {
     "data": {
      "image/png": "[encoded data removed]",
      "text/plain": [
       "<Figure size 640x480 with 1 Axes>"
      ]
     },
     "metadata": {},
     "output_type": "display_data"
    }
   ],
   "source": [
    "plt.hist(df[0], weights=df[1])"
   ]
  }
 ],
 "metadata": {
  "kernelspec": {
   "display_name": ".venv",
   "language": "python",
   "name": "python3"
  },
  "language_info": {
   "codemirror_mode": {
    "name": "ipython",
    "version": 3
   },
   "file_extension": ".py",
   "mimetype": "text/x-python",
   "name": "python",
   "nbconvert_exporter": "python",
   "pygments_lexer": "ipython3",
   "version": "3.12.4"
  }
 },
 "nbformat": 4,
 "nbformat_minor": 2
}
